{
 "cells": [
  {
   "cell_type": "markdown",
   "id": "155cf9a3",
   "metadata": {},
   "source": [
    "**Data Set: Boston House Prices**"
   ]
  },
  {
   "cell_type": "markdown",
   "id": "8db1a999",
   "metadata": {},
   "source": [
    "The problem that we are going to solve here is that given a set of features that describe a house in Boston, our machine learning model must predict the house price. To train our machine learning model with boston housing data, we will be using scikit-learn’s boston dataset.\n",
    "\n",
    "In this dataset, each row describes a boston town or suburb. There are 506 rows and 13 attributes (features) with a target column (price). https://archive.ics.uci.edu/ml/machine-learning-databases/housing/housing.names"
   ]
  },
  {
   "cell_type": "markdown",
   "id": "50322604",
   "metadata": {},
   "source": [
    "# Importing libraries & loading the Dataset"
   ]
  },
  {
   "cell_type": "code",
   "execution_count": 4,
   "id": "3c173e58",
   "metadata": {},
   "outputs": [],
   "source": [
    "# Import Essential Libraries\n",
    "import pandas as pd\n",
    "import numpy as np\n",
    "\n",
    "# to visualize data using 2D plots.\n",
    "import matplotlib.pyplot as plt\n",
    "# to make 2D plots look pretty and readable.\n",
    "import seaborn as sns\n",
    "import random\n",
    "import os\n",
    "\n",
    "# Setting Seaborn Style\n",
    "sns.set(style = 'whitegrid')\n",
    "\n",
    "# For Preprocessing\n",
    "from sklearn.preprocessing import StandardScaler, MinMaxScaler\n",
    "\n",
    "# For Preformance metrics\n",
    "from sklearn.metrics import mean_squared_error, r2_score\n",
    "\n",
    "# ignore all warnings\n",
    "def warn(*args, **kwargs):\n",
    "    pass\n",
    "import warnings\n",
    "warnings.warn = warn"
   ]
  },
  {
   "cell_type": "code",
   "execution_count": 5,
   "id": "c89bef6d",
   "metadata": {},
   "outputs": [
    {
     "ename": "ImportError",
     "evalue": "\n`load_boston` has been removed from scikit-learn since version 1.2.\n\nThe Boston housing prices dataset has an ethical problem: as\ninvestigated in [1], the authors of this dataset engineered a\nnon-invertible variable \"B\" assuming that racial self-segregation had a\npositive impact on house prices [2]. Furthermore the goal of the\nresearch that led to the creation of this dataset was to study the\nimpact of air quality but it did not give adequate demonstration of the\nvalidity of this assumption.\n\nThe scikit-learn maintainers therefore strongly discourage the use of\nthis dataset unless the purpose of the code is to study and educate\nabout ethical issues in data science and machine learning.\n\nIn this special case, you can fetch the dataset from the original\nsource::\n\n    import pandas as pd\n    import numpy as np\n\n    data_url = \"http://lib.stat.cmu.edu/datasets/boston\"\n    raw_df = pd.read_csv(data_url, sep=\"\\s+\", skiprows=22, header=None)\n    data = np.hstack([raw_df.values[::2, :], raw_df.values[1::2, :2]])\n    target = raw_df.values[1::2, 2]\n\nAlternative datasets include the California housing dataset and the\nAmes housing dataset. You can load the datasets as follows::\n\n    from sklearn.datasets import fetch_california_housing\n    housing = fetch_california_housing()\n\nfor the California housing dataset and::\n\n    from sklearn.datasets import fetch_openml\n    housing = fetch_openml(name=\"house_prices\", as_frame=True)\n\nfor the Ames housing dataset.\n\n[1] M Carlisle.\n\"Racist data destruction?\"\n<https://medium.com/@docintangible/racist-data-destruction-113e3eff54a8>\n\n[2] Harrison Jr, David, and Daniel L. Rubinfeld.\n\"Hedonic housing prices and the demand for clean air.\"\nJournal of environmental economics and management 5.1 (1978): 81-102.\n<https://www.researchgate.net/publication/4974606_Hedonic_housing_prices_and_the_demand_for_clean_air>\n",
     "output_type": "error",
     "traceback": [
      "\u001b[1;31m---------------------------------------------------------------------------\u001b[0m",
      "\u001b[1;31mImportError\u001b[0m                               Traceback (most recent call last)",
      "\u001b[1;32md:\\gethub\\ML projects\\abhi int254\\boston-housing-price-prediction-master\\boston house prices prediction.ipynb Cell 5\u001b[0m line \u001b[0;36m2\n\u001b[0;32m      <a href='vscode-notebook-cell:/d%3A/gethub/ML%20projects/abhi%20int254/boston-housing-price-prediction-master/boston%20house%20prices%20prediction.ipynb#W4sZmlsZQ%3D%3D?line=0'>1</a>\u001b[0m \u001b[39m#To create machine learning models easily and make predictions.\u001b[39;00m\n\u001b[1;32m----> <a href='vscode-notebook-cell:/d%3A/gethub/ML%20projects/abhi%20int254/boston-housing-price-prediction-master/boston%20house%20prices%20prediction.ipynb#W4sZmlsZQ%3D%3D?line=1'>2</a>\u001b[0m \u001b[39mfrom\u001b[39;00m \u001b[39msklearn\u001b[39;00m\u001b[39m.\u001b[39;00m\u001b[39mdatasets\u001b[39;00m \u001b[39mimport\u001b[39;00m load_boston\n\u001b[0;32m      <a href='vscode-notebook-cell:/d%3A/gethub/ML%20projects/abhi%20int254/boston-housing-price-prediction-master/boston%20house%20prices%20prediction.ipynb#W4sZmlsZQ%3D%3D?line=2'>3</a>\u001b[0m dataset \u001b[39m=\u001b[39m load_boston()\n",
      "File \u001b[1;32mc:\\Users\\DELL\\AppData\\Local\\Programs\\Python\\Python310\\lib\\site-packages\\sklearn\\datasets\\__init__.py:157\u001b[0m, in \u001b[0;36m__getattr__\u001b[1;34m(name)\u001b[0m\n\u001b[0;32m    108\u001b[0m \u001b[39mif\u001b[39;00m name \u001b[39m==\u001b[39m \u001b[39m\"\u001b[39m\u001b[39mload_boston\u001b[39m\u001b[39m\"\u001b[39m:\n\u001b[0;32m    109\u001b[0m     msg \u001b[39m=\u001b[39m textwrap\u001b[39m.\u001b[39mdedent(\u001b[39m\"\"\"\u001b[39m\n\u001b[0;32m    110\u001b[0m \u001b[39m        `load_boston` has been removed from scikit-learn since version 1.2.\u001b[39m\n\u001b[0;32m    111\u001b[0m \n\u001b[1;32m   (...)\u001b[0m\n\u001b[0;32m    155\u001b[0m \u001b[39m        <https://www.researchgate.net/publication/4974606_Hedonic_housing_prices_and_the_demand_for_clean_air>\u001b[39m\n\u001b[0;32m    156\u001b[0m \u001b[39m        \u001b[39m\u001b[39m\"\"\"\u001b[39m)\n\u001b[1;32m--> 157\u001b[0m     \u001b[39mraise\u001b[39;00m \u001b[39mImportError\u001b[39;00m(msg)\n\u001b[0;32m    158\u001b[0m \u001b[39mtry\u001b[39;00m:\n\u001b[0;32m    159\u001b[0m     \u001b[39mreturn\u001b[39;00m \u001b[39mglobals\u001b[39m()[name]\n",
      "\u001b[1;31mImportError\u001b[0m: \n`load_boston` has been removed from scikit-learn since version 1.2.\n\nThe Boston housing prices dataset has an ethical problem: as\ninvestigated in [1], the authors of this dataset engineered a\nnon-invertible variable \"B\" assuming that racial self-segregation had a\npositive impact on house prices [2]. Furthermore the goal of the\nresearch that led to the creation of this dataset was to study the\nimpact of air quality but it did not give adequate demonstration of the\nvalidity of this assumption.\n\nThe scikit-learn maintainers therefore strongly discourage the use of\nthis dataset unless the purpose of the code is to study and educate\nabout ethical issues in data science and machine learning.\n\nIn this special case, you can fetch the dataset from the original\nsource::\n\n    import pandas as pd\n    import numpy as np\n\n    data_url = \"http://lib.stat.cmu.edu/datasets/boston\"\n    raw_df = pd.read_csv(data_url, sep=\"\\s+\", skiprows=22, header=None)\n    data = np.hstack([raw_df.values[::2, :], raw_df.values[1::2, :2]])\n    target = raw_df.values[1::2, 2]\n\nAlternative datasets include the California housing dataset and the\nAmes housing dataset. You can load the datasets as follows::\n\n    from sklearn.datasets import fetch_california_housing\n    housing = fetch_california_housing()\n\nfor the California housing dataset and::\n\n    from sklearn.datasets import fetch_openml\n    housing = fetch_openml(name=\"house_prices\", as_frame=True)\n\nfor the Ames housing dataset.\n\n[1] M Carlisle.\n\"Racist data destruction?\"\n<https://medium.com/@docintangible/racist-data-destruction-113e3eff54a8>\n\n[2] Harrison Jr, David, and Daniel L. Rubinfeld.\n\"Hedonic housing prices and the demand for clean air.\"\nJournal of environmental economics and management 5.1 (1978): 81-102.\n<https://www.researchgate.net/publication/4974606_Hedonic_housing_prices_and_the_demand_for_clean_air>\n"
     ]
    }
   ],
   "source": [
    "#To create machine learning models easily and make predictions.\n",
    "from sklearn.datasets import load_boston\n",
    "dataset = load_boston()"
   ]
  },
  {
   "cell_type": "code",
   "execution_count": 7,
   "id": "e9b44fa6",
   "metadata": {},
   "outputs": [
    {
     "ename": "NameError",
     "evalue": "name 'dataset' is not defined",
     "output_type": "error",
     "traceback": [
      "\u001b[1;31m---------------------------------------------------------------------------\u001b[0m",
      "\u001b[1;31mNameError\u001b[0m                                 Traceback (most recent call last)",
      "\u001b[1;32md:\\gethub\\ML projects\\abhi int254\\boston-housing-price-prediction-master\\boston house prices prediction.ipynb Cell 6\u001b[0m line \u001b[0;36m2\n\u001b[0;32m      <a href='vscode-notebook-cell:/d%3A/gethub/ML%20projects/abhi%20int254/boston-housing-price-prediction-master/boston%20house%20prices%20prediction.ipynb#W5sZmlsZQ%3D%3D?line=0'>1</a>\u001b[0m \u001b[39m#There are 6 keys in this dataset using which we can access more information about the dataset .\u001b[39;00m\n\u001b[1;32m----> <a href='vscode-notebook-cell:/d%3A/gethub/ML%20projects/abhi%20int254/boston-housing-price-prediction-master/boston%20house%20prices%20prediction.ipynb#W5sZmlsZQ%3D%3D?line=1'>2</a>\u001b[0m \u001b[39mprint\u001b[39m(\u001b[39m\"\u001b[39m\u001b[39m[INFO] keys : \u001b[39m\u001b[39m{}\u001b[39;00m\u001b[39m\"\u001b[39m\u001b[39m.\u001b[39mformat(dataset\u001b[39m.\u001b[39mkeys()))\n",
      "\u001b[1;31mNameError\u001b[0m: name 'dataset' is not defined"
     ]
    }
   ],
   "source": [
    "#There are 6 keys in this dataset using which we can access more information about the dataset .\n",
    "print(\"[INFO] keys : {}\".format(dataset.keys()))"
   ]
  },
  {
   "cell_type": "code",
   "execution_count": null,
   "id": "b487c305",
   "metadata": {},
   "outputs": [
    {
     "ename": "",
     "evalue": "",
     "output_type": "error",
     "traceback": [
      "\u001b[1;31mRunning cells with 'c:\\Users\\DELL\\AppData\\Local\\Programs\\Python\\Python310\\python.exe' requires the ipykernel package.\n",
      "\u001b[1;31mRun the following command to install 'ipykernel' into the Python environment. \n",
      "\u001b[1;31mCommand: 'c:/Users/DELL/AppData/Local/Programs/Python/Python310/python.exe -m pip install ipykernel -U --user --force-reinstall'"
     ]
    }
   ],
   "source": [
    "dataset.feature_names"
   ]
  },
  {
   "cell_type": "code",
   "execution_count": null,
   "id": "aa175a5f",
   "metadata": {},
   "outputs": [
    {
     "ename": "",
     "evalue": "",
     "output_type": "error",
     "traceback": [
      "\u001b[1;31mRunning cells with 'c:\\Users\\DELL\\AppData\\Local\\Programs\\Python\\Python310\\python.exe' requires the ipykernel package.\n",
      "\u001b[1;31mRun the following command to install 'ipykernel' into the Python environment. \n",
      "\u001b[1;31mCommand: 'c:/Users/DELL/AppData/Local/Programs/Python/Python310/python.exe -m pip install ipykernel -U --user --force-reinstall'"
     ]
    }
   ],
   "source": [
    "print(\"[INFO] dataset summary\", dataset.DESCR)"
   ]
  },
  {
   "cell_type": "markdown",
   "id": "4ffb3be4",
   "metadata": {},
   "source": [
    "# Exploratory Data Analysis"
   ]
  },
  {
   "cell_type": "code",
   "execution_count": null,
   "id": "12c4483f",
   "metadata": {},
   "outputs": [
    {
     "ename": "",
     "evalue": "",
     "output_type": "error",
     "traceback": [
      "\u001b[1;31mRunning cells with 'c:\\Users\\DELL\\AppData\\Local\\Programs\\Python\\Python310\\python.exe' requires the ipykernel package.\n",
      "\u001b[1;31mRun the following command to install 'ipykernel' into the Python environment. \n",
      "\u001b[1;31mCommand: 'c:/Users/DELL/AppData/Local/Programs/Python/Python310/python.exe -m pip install ipykernel -U --user --force-reinstall'"
     ]
    }
   ],
   "source": [
    "# We can easily convert the dataset into a pandas dataframe to perform exploratory data analysis. \n",
    "df=pd.DataFrame(dataset.data)\n",
    "df"
   ]
  },
  {
   "cell_type": "code",
   "execution_count": null,
   "id": "6a731093",
   "metadata": {},
   "outputs": [
    {
     "ename": "",
     "evalue": "",
     "output_type": "error",
     "traceback": [
      "\u001b[1;31mRunning cells with 'c:\\Users\\DELL\\AppData\\Local\\Programs\\Python\\Python310\\python.exe' requires the ipykernel package.\n",
      "\u001b[1;31mRun the following command to install 'ipykernel' into the Python environment. \n",
      "\u001b[1;31mCommand: 'c:/Users/DELL/AppData/Local/Programs/Python/Python310/python.exe -m pip install ipykernel -U --user --force-reinstall'"
     ]
    }
   ],
   "source": [
    "df.columns = dataset.feature_names\n",
    "df[\"prices\"]=dataset.target"
   ]
  },
  {
   "cell_type": "code",
   "execution_count": null,
   "id": "421bb843",
   "metadata": {},
   "outputs": [
    {
     "ename": "",
     "evalue": "",
     "output_type": "error",
     "traceback": [
      "\u001b[1;31mRunning cells with 'c:\\Users\\DELL\\AppData\\Local\\Programs\\Python\\Python310\\python.exe' requires the ipykernel package.\n",
      "\u001b[1;31mRun the following command to install 'ipykernel' into the Python environment. \n",
      "\u001b[1;31mCommand: 'c:/Users/DELL/AppData/Local/Programs/Python/Python310/python.exe -m pip install ipykernel -U --user --force-reinstall'"
     ]
    }
   ],
   "source": [
    "df"
   ]
  },
  {
   "cell_type": "markdown",
   "id": "0ffcb57e",
   "metadata": {},
   "source": [
    "Exploratory  Data Analysis is a very important step before training the model. Here,  we will use visualizations to understand the relationship of the target  variable with other features.\n",
    "\n",
    "Let’s first plot the distribution of the target variable. We will use the histogram plot function from the matplotlib library."
   ]
  },
  {
   "cell_type": "code",
   "execution_count": null,
   "id": "7146da5d",
   "metadata": {},
   "outputs": [
    {
     "ename": "",
     "evalue": "",
     "output_type": "error",
     "traceback": [
      "\u001b[1;31mRunning cells with 'c:\\Users\\DELL\\AppData\\Local\\Programs\\Python\\Python310\\python.exe' requires the ipykernel package.\n",
      "\u001b[1;31mRun the following command to install 'ipykernel' into the Python environment. \n",
      "\u001b[1;31mCommand: 'c:/Users/DELL/AppData/Local/Programs/Python/Python310/python.exe -m pip install ipykernel -U --user --force-reinstall'"
     ]
    }
   ],
   "source": [
    "sns.set(rc={'figure.figsize':(11.7,8.27)})\n",
    "plt.hist(df['prices'],color =\"brown\", bins=30)\n",
    "plt.xlabel(\"House prices in $1000\")\n",
    "plt.show()"
   ]
  },
  {
   "cell_type": "markdown",
   "id": "4fe16460",
   "metadata": {},
   "source": [
    "We can see from the plot that the values of PRICE are distributed normally with few outliers. Most of the house are around 20–24 range (in $1000 scale)"
   ]
  },
  {
   "cell_type": "code",
   "execution_count": null,
   "id": "c6fc274c",
   "metadata": {},
   "outputs": [
    {
     "ename": "",
     "evalue": "",
     "output_type": "error",
     "traceback": [
      "\u001b[1;31mRunning cells with 'c:\\Users\\DELL\\AppData\\Local\\Programs\\Python\\Python310\\python.exe' requires the ipykernel package.\n",
      "\u001b[1;31mRun the following command to install 'ipykernel' into the Python environment. \n",
      "\u001b[1;31mCommand: 'c:/Users/DELL/AppData/Local/Programs/Python/Python310/python.exe -m pip install ipykernel -U --user --force-reinstall'"
     ]
    }
   ],
   "source": [
    "#descriptive statistics\n",
    "#statistical summary of the dataset using the describe() function. Using this function,\n",
    "#we can understand the count, min, max, mean and standard deviation for each attribute (column) in the dataset. \n",
    "df.describe().T"
   ]
  },
  {
   "cell_type": "markdown",
   "id": "13dcd8e3",
   "metadata": {},
   "source": [
    "## Understanding the Data and statistical analysis"
   ]
  },
  {
   "cell_type": "code",
   "execution_count": null,
   "id": "10881e56",
   "metadata": {},
   "outputs": [
    {
     "ename": "",
     "evalue": "",
     "output_type": "error",
     "traceback": [
      "\u001b[1;31mRunning cells with 'c:\\Users\\DELL\\AppData\\Local\\Programs\\Python\\Python310\\python.exe' requires the ipykernel package.\n",
      "\u001b[1;31mRun the following command to install 'ipykernel' into the Python environment. \n",
      "\u001b[1;31mCommand: 'c:/Users/DELL/AppData/Local/Programs/Python/Python310/python.exe -m pip install ipykernel -U --user --force-reinstall'"
     ]
    }
   ],
   "source": [
    "df.info()"
   ]
  },
  {
   "cell_type": "code",
   "execution_count": null,
   "id": "53ad782f",
   "metadata": {},
   "outputs": [
    {
     "ename": "",
     "evalue": "",
     "output_type": "error",
     "traceback": [
      "\u001b[1;31mRunning cells with 'c:\\Users\\DELL\\AppData\\Local\\Programs\\Python\\Python310\\python.exe' requires the ipykernel package.\n",
      "\u001b[1;31mRun the following command to install 'ipykernel' into the Python environment. \n",
      "\u001b[1;31mCommand: 'c:/Users/DELL/AppData/Local/Programs/Python/Python310/python.exe -m pip install ipykernel -U --user --force-reinstall'"
     ]
    }
   ],
   "source": [
    "# Identifying the unique number of values in the dataset\n",
    "df.nunique()"
   ]
  },
  {
   "cell_type": "markdown",
   "id": "79bb2fe7",
   "metadata": {},
   "source": [
    "## Check for missing values"
   ]
  },
  {
   "cell_type": "code",
   "execution_count": null,
   "id": "1cde213a",
   "metadata": {},
   "outputs": [
    {
     "ename": "",
     "evalue": "",
     "output_type": "error",
     "traceback": [
      "\u001b[1;31mRunning cells with 'c:\\Users\\DELL\\AppData\\Local\\Programs\\Python\\Python310\\python.exe' requires the ipykernel package.\n",
      "\u001b[1;31mRun the following command to install 'ipykernel' into the Python environment. \n",
      "\u001b[1;31mCommand: 'c:/Users/DELL/AppData/Local/Programs/Python/Python310/python.exe -m pip install ipykernel -U --user --force-reinstall'"
     ]
    }
   ],
   "source": [
    "df.isnull().sum()"
   ]
  },
  {
   "cell_type": "code",
   "execution_count": null,
   "id": "a3fb1dc1",
   "metadata": {},
   "outputs": [
    {
     "ename": "",
     "evalue": "",
     "output_type": "error",
     "traceback": [
      "\u001b[1;31mRunning cells with 'c:\\Users\\DELL\\AppData\\Local\\Programs\\Python\\Python310\\python.exe' requires the ipykernel package.\n",
      "\u001b[1;31mRun the following command to install 'ipykernel' into the Python environment. \n",
      "\u001b[1;31mCommand: 'c:/Users/DELL/AppData/Local/Programs/Python/Python310/python.exe -m pip install ipykernel -U --user --force-reinstall'"
     ]
    }
   ],
   "source": [
    "print(df.isna().sum())"
   ]
  },
  {
   "cell_type": "markdown",
   "id": "bb0b8e79",
   "metadata": {},
   "source": [
    "# Data Visualization"
   ]
  },
  {
   "cell_type": "markdown",
   "id": "3a1de5c3",
   "metadata": {},
   "source": [
    "## Checking the distribution of the data"
   ]
  },
  {
   "cell_type": "code",
   "execution_count": null,
   "id": "639dcf9d",
   "metadata": {},
   "outputs": [
    {
     "ename": "",
     "evalue": "",
     "output_type": "error",
     "traceback": [
      "\u001b[1;31mRunning cells with 'c:\\Users\\DELL\\AppData\\Local\\Programs\\Python\\Python310\\python.exe' requires the ipykernel package.\n",
      "\u001b[1;31mRun the following command to install 'ipykernel' into the Python environment. \n",
      "\u001b[1;31mCommand: 'c:/Users/DELL/AppData/Local/Programs/Python/Python310/python.exe -m pip install ipykernel -U --user --force-reinstall'"
     ]
    }
   ],
   "source": [
    "def draw_plots(df, var, rows, cols):\n",
    "    fig=plt.figure(figsize=(20,20))\n",
    "    for i, f in enumerate(var):\n",
    "        ax=fig.add_subplot(rows,cols,i+1)\n",
    "        df[f].hist(bins=20,ax=ax, facecolor='midnightblue')\n",
    "        ax.set_title(f+'Distribution',color='DarkRed')\n",
    " \n",
    "    fig.tight_layout() "
   ]
  },
  {
   "cell_type": "code",
   "execution_count": null,
   "id": "fcd056a6",
   "metadata": {},
   "outputs": [
    {
     "ename": "",
     "evalue": "",
     "output_type": "error",
     "traceback": [
      "\u001b[1;31mRunning cells with 'c:\\Users\\DELL\\AppData\\Local\\Programs\\Python\\Python310\\python.exe' requires the ipykernel package.\n",
      "\u001b[1;31mRun the following command to install 'ipykernel' into the Python environment. \n",
      "\u001b[1;31mCommand: 'c:/Users/DELL/AppData/Local/Programs/Python/Python310/python.exe -m pip install ipykernel -U --user --force-reinstall'"
     ]
    }
   ],
   "source": [
    "plt.show()\n",
    "draw_plots(df,df.columns,5,3)"
   ]
  },
  {
   "cell_type": "markdown",
   "id": "489bbb57",
   "metadata": {},
   "source": [
    "## Explorning data to know relation before processing"
   ]
  },
  {
   "cell_type": "markdown",
   "id": "2bdeebfe",
   "metadata": {},
   "source": [
    "<b> The correlation coefficient ranges from -1 to 1. If the value is close  to 1, it means that there is a strong positive correlation between the  two variables. When it is close to -1, the variables have a strong  negative correlation."
   ]
  },
  {
   "cell_type": "code",
   "execution_count": null,
   "id": "549f0e95",
   "metadata": {},
   "outputs": [
    {
     "ename": "",
     "evalue": "",
     "output_type": "error",
     "traceback": [
      "\u001b[1;31mRunning cells with 'c:\\Users\\DELL\\AppData\\Local\\Programs\\Python\\Python310\\python.exe' requires the ipykernel package.\n",
      "\u001b[1;31mRun the following command to install 'ipykernel' into the Python environment. \n",
      "\u001b[1;31mCommand: 'c:/Users/DELL/AppData/Local/Programs/Python/Python310/python.exe -m pip install ipykernel -U --user --force-reinstall'"
     ]
    }
   ],
   "source": [
    "# Finding out the correlation between the features\n",
    "corr = df.corr()\n",
    "corr"
   ]
  },
  {
   "cell_type": "code",
   "execution_count": 3,
   "id": "560ffecc",
   "metadata": {},
   "outputs": [
    {
     "ename": "NameError",
     "evalue": "name 'df' is not defined",
     "output_type": "error",
     "traceback": [
      "\u001b[1;31m---------------------------------------------------------------------------\u001b[0m",
      "\u001b[1;31mNameError\u001b[0m                                 Traceback (most recent call last)",
      "\u001b[1;32md:\\gethub\\ML projects\\abhi int254\\boston-housing-price-prediction-master\\boston house prices prediction.ipynb Cell 30\u001b[0m line \u001b[0;36m4\n\u001b[0;32m      <a href='vscode-notebook-cell:/d%3A/gethub/ML%20projects/abhi%20int254/boston-housing-price-prediction-master/boston%20house%20prices%20prediction.ipynb#X41sZmlsZQ%3D%3D?line=0'>1</a>\u001b[0m \u001b[39m# Plotting the heatmap of correlation between features\u001b[39;00m\n\u001b[0;32m      <a href='vscode-notebook-cell:/d%3A/gethub/ML%20projects/abhi%20int254/boston-housing-price-prediction-master/boston%20house%20prices%20prediction.ipynb#X41sZmlsZQ%3D%3D?line=2'>3</a>\u001b[0m plt\u001b[39m.\u001b[39mfigure(figsize\u001b[39m=\u001b[39m(\u001b[39m12\u001b[39m,\u001b[39m12\u001b[39m))\n\u001b[1;32m----> <a href='vscode-notebook-cell:/d%3A/gethub/ML%20projects/abhi%20int254/boston-housing-price-prediction-master/boston%20house%20prices%20prediction.ipynb#X41sZmlsZQ%3D%3D?line=3'>4</a>\u001b[0m sns\u001b[39m.\u001b[39mheatmap(data\u001b[39m=\u001b[39mdf\u001b[39m.\u001b[39mcorr()\u001b[39m.\u001b[39mround(\u001b[39m2\u001b[39m),annot\u001b[39m=\u001b[39m\u001b[39mTrue\u001b[39;00m,cmap\u001b[39m=\u001b[39m\u001b[39m'\u001b[39m\u001b[39mcoolwarm\u001b[39m\u001b[39m'\u001b[39m,linewidths\u001b[39m=\u001b[39m\u001b[39m0.2\u001b[39m,square\u001b[39m=\u001b[39m\u001b[39mTrue\u001b[39;00m)\n",
      "\u001b[1;31mNameError\u001b[0m: name 'df' is not defined"
     ]
    },
    {
     "data": {
      "text/plain": [
       "<Figure size 1200x1200 with 0 Axes>"
      ]
     },
     "metadata": {},
     "output_type": "display_data"
    }
   ],
   "source": [
    "# Plotting the heatmap of correlation between features\n",
    "\n",
    "plt.figure(figsize=(12,12))\n",
    "sns.heatmap(data=df.corr().round(2),annot=True,cmap='coolwarm',linewidths=0.2,square=True)"
   ]
  },
  {
   "cell_type": "markdown",
   "id": "ee5319bc",
   "metadata": {},
   "source": [
    "The Big colorful picture above which is called Heatmap helps us to understand how features are correlated to each other.\n",
    "\n",
    "Postive sign implies postive correlation between two features whereas Negative sign implies negative correlation between two features.  \n",
    "I am here interested to know which features have good correlation with our dependent variable prices and can help in having good predictions.  \n",
    "I observed that INDUS, RM, TAX, PTRATIO and LSTAT shows some good correaltion with prices and I am interested to know more about them.  \n",
    "However I noticed that INDUS shows good correlation with TAX and LSAT which is a pain point for us :(\n",
    "\n",
    "because it leads to Multicollinearity. So I decided NOT to consider this feature and do further analysis with other 6 remaining features.  "
   ]
  },
  {
   "cell_type": "markdown",
   "id": "5f7ab5d3",
   "metadata": {},
   "source": [
    "By looking at the correlation matrix we can see that RM has a strong positive correlation with PRICE (0.7) where as LSTAThas a high negative correlation with PRICE (-0.7)."
   ]
  },
  {
   "cell_type": "code",
   "execution_count": null,
   "id": "84be6c3f",
   "metadata": {},
   "outputs": [
    {
     "ename": "",
     "evalue": "",
     "output_type": "error",
     "traceback": [
      "\u001b[1;31mRunning cells with 'c:\\Users\\DELL\\AppData\\Local\\Programs\\Python\\Python310\\python.exe' requires the ipykernel package.\n",
      "\u001b[1;31mRun the following command to install 'ipykernel' into the Python environment. \n",
      "\u001b[1;31mCommand: 'c:/Users/DELL/AppData/Local/Programs/Python/Python310/python.exe -m pip install ipykernel -U --user --force-reinstall'"
     ]
    }
   ],
   "source": [
    "# TODO : Visualizing correlation of features with prediction column `MEDV`\n",
    "\n",
    "corr_with_prices = df.corrwith(df['prices'])\n",
    "\n",
    "plt.figure(figsize = (16, 4))\n",
    "sns.heatmap([np.abs(corr_with_prices)], cmap = 'RdBu_r', annot = True, fmt = '.2%')"
   ]
  },
  {
   "cell_type": "code",
   "execution_count": null,
   "id": "d31464e1",
   "metadata": {},
   "outputs": [
    {
     "ename": "",
     "evalue": "",
     "output_type": "error",
     "traceback": [
      "\u001b[1;31mRunning cells with 'c:\\Users\\DELL\\AppData\\Local\\Programs\\Python\\Python310\\python.exe' requires the ipykernel package.\n",
      "\u001b[1;31mRun the following command to install 'ipykernel' into the Python environment. \n",
      "\u001b[1;31mCommand: 'c:/Users/DELL/AppData/Local/Programs/Python/Python310/python.exe -m pip install ipykernel -U --user --force-reinstall'"
     ]
    }
   ],
   "source": [
    "# Let's confirm this by using ExtraTreesRegressor\n",
    "# TODO : To know the feature Importances\n",
    "y = df['prices'].values\n",
    "from sklearn.ensemble import ExtraTreesRegressor\n",
    "etc = ExtraTreesRegressor()\n",
    "etc.fit(df.iloc[:, :-1].values, y)\n",
    "\n",
    "print(\"Percentage Importance of each features with respect to House Price : \")\n",
    "important_features = pd.Series(etc.feature_importances_*100, index = df.columns[:-1])\n",
    "important_features"
   ]
  },
  {
   "cell_type": "code",
   "execution_count": null,
   "id": "1b6736df",
   "metadata": {},
   "outputs": [
    {
     "ename": "",
     "evalue": "",
     "output_type": "error",
     "traceback": [
      "\u001b[1;31mRunning cells with 'c:\\Users\\DELL\\AppData\\Local\\Programs\\Python\\Python310\\python.exe' requires the ipykernel package.\n",
      "\u001b[1;31mRun the following command to install 'ipykernel' into the Python environment. \n",
      "\u001b[1;31mCommand: 'c:/Users/DELL/AppData/Local/Programs/Python/Python310/python.exe -m pip install ipykernel -U --user --force-reinstall'"
     ]
    }
   ],
   "source": [
    "# Feature Impotances by ExtraTressRegressor\n",
    "important_features.sort_values(ascending = False)"
   ]
  },
  {
   "cell_type": "code",
   "execution_count": null,
   "id": "86c39218",
   "metadata": {},
   "outputs": [
    {
     "ename": "",
     "evalue": "",
     "output_type": "error",
     "traceback": [
      "\u001b[1;31mRunning cells with 'c:\\Users\\DELL\\AppData\\Local\\Programs\\Python\\Python310\\python.exe' requires the ipykernel package.\n",
      "\u001b[1;31mRun the following command to install 'ipykernel' into the Python environment. \n",
      "\u001b[1;31mCommand: 'c:/Users/DELL/AppData/Local/Programs/Python/Python310/python.exe -m pip install ipykernel -U --user --force-reinstall'"
     ]
    }
   ],
   "source": [
    "# Feature Impotances by Correlation Matrix\n",
    "corr_with_prices[:-1].abs().sort_values(ascending = False)"
   ]
  },
  {
   "cell_type": "code",
   "execution_count": null,
   "id": "16d8a34f",
   "metadata": {},
   "outputs": [
    {
     "ename": "",
     "evalue": "",
     "output_type": "error",
     "traceback": [
      "\u001b[1;31mRunning cells with 'c:\\Users\\DELL\\AppData\\Local\\Programs\\Python\\Python310\\python.exe' requires the ipykernel package.\n",
      "\u001b[1;31mRun the following command to install 'ipykernel' into the Python environment. \n",
      "\u001b[1;31mCommand: 'c:/Users/DELL/AppData/Local/Programs/Python/Python310/python.exe -m pip install ipykernel -U --user --force-reinstall'"
     ]
    }
   ],
   "source": [
    "# it says the same proximity\n",
    "plt.figure(figsize=(16, 10))\n",
    "plt.plot(etc.feature_importances_, df.columns[:-1], 'go-', linewidth=5, markersize=12)"
   ]
  },
  {
   "cell_type": "markdown",
   "id": "3435d280",
   "metadata": {},
   "source": [
    "**From the above feature observations, we found that some columns are most important such as LSTAT and RM**"
   ]
  },
  {
   "cell_type": "code",
   "execution_count": null,
   "id": "a7aa8659",
   "metadata": {},
   "outputs": [
    {
     "ename": "",
     "evalue": "",
     "output_type": "error",
     "traceback": [
      "\u001b[1;31mRunning cells with 'c:\\Users\\DELL\\AppData\\Local\\Programs\\Python\\Python310\\python.exe' requires the ipykernel package.\n",
      "\u001b[1;31mRun the following command to install 'ipykernel' into the Python environment. \n",
      "\u001b[1;31mCommand: 'c:/Users/DELL/AppData/Local/Programs/Python/Python310/python.exe -m pip install ipykernel -U --user --force-reinstall'"
     ]
    }
   ],
   "source": [
    "plt.figure(figsize=(20, 5))\n",
    "\n",
    "features = ['LSTAT', 'RM']\n",
    "target = df['prices']\n",
    "\n",
    "for i, col in enumerate(features):\n",
    "    plt.subplot(1, len(features) , i+1)\n",
    "    x = df[col]\n",
    "    y = target\n",
    "    plt.scatter(x, y,color='green', marker='o')\n",
    "    plt.title(\"Variation in House prices\")\n",
    "    plt.xlabel(col)\n",
    "    plt.ylabel('\"House prices in $1000\"')"
   ]
  },
  {
   "cell_type": "markdown",
   "id": "25f1d8ee",
   "metadata": {},
   "source": [
    "The prices increase as the value of RM increases linearly. There are few outliers and the data seems to be capped at 50.\n",
    "\n",
    "The prices tend to decrease with an increase in LSTAT. Though it doesn’t look to be following exactly a linear line."
   ]
  },
  {
   "cell_type": "markdown",
   "id": "6dc28718",
   "metadata": {},
   "source": [
    "# Univariate and Multivariate Analysis"
   ]
  },
  {
   "cell_type": "code",
   "execution_count": null,
   "id": "e26d668c",
   "metadata": {},
   "outputs": [
    {
     "ename": "",
     "evalue": "",
     "output_type": "error",
     "traceback": [
      "\u001b[1;31mRunning cells with 'c:\\Users\\DELL\\AppData\\Local\\Programs\\Python\\Python310\\python.exe' requires the ipykernel package.\n",
      "\u001b[1;31mRun the following command to install 'ipykernel' into the Python environment. \n",
      "\u001b[1;31mCommand: 'c:/Users/DELL/AppData/Local/Programs/Python/Python310/python.exe -m pip install ipykernel -U --user --force-reinstall'"
     ]
    }
   ],
   "source": [
    "desc = df.describe().round(2)\n",
    "desc"
   ]
  },
  {
   "cell_type": "code",
   "execution_count": null,
   "id": "487cf706",
   "metadata": {},
   "outputs": [
    {
     "ename": "",
     "evalue": "",
     "output_type": "error",
     "traceback": [
      "\u001b[1;31mRunning cells with 'c:\\Users\\DELL\\AppData\\Local\\Programs\\Python\\Python310\\python.exe' requires the ipykernel package.\n",
      "\u001b[1;31mRun the following command to install 'ipykernel' into the Python environment. \n",
      "\u001b[1;31mCommand: 'c:/Users/DELL/AppData/Local/Programs/Python/Python310/python.exe -m pip install ipykernel -U --user --force-reinstall'"
     ]
    }
   ],
   "source": [
    "df.plot(kind='box',figsize=(20,10),color='Green',vert=False)\n",
    "plt.show()"
   ]
  },
  {
   "cell_type": "markdown",
   "id": "3a930498",
   "metadata": {},
   "source": [
    "## prices"
   ]
  },
  {
   "cell_type": "code",
   "execution_count": null,
   "id": "1c1db2da",
   "metadata": {},
   "outputs": [
    {
     "ename": "",
     "evalue": "",
     "output_type": "error",
     "traceback": [
      "\u001b[1;31mRunning cells with 'c:\\Users\\DELL\\AppData\\Local\\Programs\\Python\\Python310\\python.exe' requires the ipykernel package.\n",
      "\u001b[1;31mRun the following command to install 'ipykernel' into the Python environment. \n",
      "\u001b[1;31mCommand: 'c:/Users/DELL/AppData/Local/Programs/Python/Python310/python.exe -m pip install ipykernel -U --user --force-reinstall'"
     ]
    }
   ],
   "source": [
    "#Box Plot and Distribution Plot for Dependent variable MEDV\n",
    "plt.figure(figsize=(20,3))\n",
    "\n",
    "plt.subplot(1,2,1)\n",
    "sns.boxplot(df.prices,color='#005030')\n",
    "plt.title('Box Plot of prices')\n",
    "\n",
    "plt.subplot(1,2,2)\n",
    "sns.distplot(a=df.prices,color='#500050')\n",
    "plt.title('Distribution Plot of prices')\n",
    "plt.show()"
   ]
  },
  {
   "cell_type": "markdown",
   "id": "0a478fdc",
   "metadata": {},
   "source": [
    "**outliers removal for future work**"
   ]
  },
  {
   "cell_type": "markdown",
   "id": "c3fccd9e",
   "metadata": {},
   "source": [
    "# Building Machine Learning Model"
   ]
  },
  {
   "cell_type": "code",
   "execution_count": null,
   "id": "a1c5824b",
   "metadata": {},
   "outputs": [
    {
     "ename": "",
     "evalue": "",
     "output_type": "error",
     "traceback": [
      "\u001b[1;31mRunning cells with 'c:\\Users\\DELL\\AppData\\Local\\Programs\\Python\\Python310\\python.exe' requires the ipykernel package.\n",
      "\u001b[1;31mRun the following command to install 'ipykernel' into the Python environment. \n",
      "\u001b[1;31mCommand: 'c:/Users/DELL/AppData/Local/Programs/Python/Python310/python.exe -m pip install ipykernel -U --user --force-reinstall'"
     ]
    }
   ],
   "source": [
    "# Arranging features based on features importance\n",
    "features_arranged_on_importance = important_features.sort_values(ascending = False).index\n",
    "features_arranged_on_importance"
   ]
  },
  {
   "cell_type": "code",
   "execution_count": null,
   "id": "70b7db64",
   "metadata": {},
   "outputs": [
    {
     "ename": "",
     "evalue": "",
     "output_type": "error",
     "traceback": [
      "\u001b[1;31mRunning cells with 'c:\\Users\\DELL\\AppData\\Local\\Programs\\Python\\Python310\\python.exe' requires the ipykernel package.\n",
      "\u001b[1;31mRun the following command to install 'ipykernel' into the Python environment. \n",
      "\u001b[1;31mCommand: 'c:/Users/DELL/AppData/Local/Programs/Python/Python310/python.exe -m pip install ipykernel -U --user --force-reinstall'"
     ]
    }
   ],
   "source": [
    "y = df.loc[:, 'prices'].values"
   ]
  },
  {
   "cell_type": "code",
   "execution_count": null,
   "id": "b42a9f80",
   "metadata": {},
   "outputs": [
    {
     "ename": "",
     "evalue": "",
     "output_type": "error",
     "traceback": [
      "\u001b[1;31mRunning cells with 'c:\\Users\\DELL\\AppData\\Local\\Programs\\Python\\Python310\\python.exe' requires the ipykernel package.\n",
      "\u001b[1;31mRun the following command to install 'ipykernel' into the Python environment. \n",
      "\u001b[1;31mCommand: 'c:/Users/DELL/AppData/Local/Programs/Python/Python310/python.exe -m pip install ipykernel -U --user --force-reinstall'"
     ]
    }
   ],
   "source": [
    "# Existing dataframe\n",
    "df.head()"
   ]
  },
  {
   "cell_type": "code",
   "execution_count": null,
   "id": "532573f5",
   "metadata": {},
   "outputs": [
    {
     "ename": "",
     "evalue": "",
     "output_type": "error",
     "traceback": [
      "\u001b[1;31mRunning cells with 'c:\\Users\\DELL\\AppData\\Local\\Programs\\Python\\Python310\\python.exe' requires the ipykernel package.\n",
      "\u001b[1;31mRun the following command to install 'ipykernel' into the Python environment. \n",
      "\u001b[1;31mCommand: 'c:/Users/DELL/AppData/Local/Programs/Python/Python310/python.exe -m pip install ipykernel -U --user --force-reinstall'"
     ]
    }
   ],
   "source": [
    "# Arranging columns based on features importance\n",
    "new_df = df[features_arranged_on_importance]\n",
    "new_df.head()"
   ]
  },
  {
   "cell_type": "code",
   "execution_count": null,
   "id": "841984c9",
   "metadata": {},
   "outputs": [
    {
     "ename": "",
     "evalue": "",
     "output_type": "error",
     "traceback": [
      "\u001b[1;31mRunning cells with 'c:\\Users\\DELL\\AppData\\Local\\Programs\\Python\\Python310\\python.exe' requires the ipykernel package.\n",
      "\u001b[1;31mRun the following command to install 'ipykernel' into the Python environment. \n",
      "\u001b[1;31mCommand: 'c:/Users/DELL/AppData/Local/Programs/Python/Python310/python.exe -m pip install ipykernel -U --user --force-reinstall'"
     ]
    }
   ],
   "source": [
    "# Getting boston values\n",
    "X = new_df.values\n",
    "X = X[:, :13]\n",
    "\n",
    "# TODO : Splitting data as train and test data\n",
    "from sklearn.model_selection import train_test_split\n",
    "X_train, X_test, y_train, y_test = train_test_split(X, y, test_size = 0.20, random_state = 42)"
   ]
  },
  {
   "cell_type": "code",
   "execution_count": null,
   "id": "411e68ac",
   "metadata": {},
   "outputs": [
    {
     "ename": "",
     "evalue": "",
     "output_type": "error",
     "traceback": [
      "\u001b[1;31mRunning cells with 'c:\\Users\\DELL\\AppData\\Local\\Programs\\Python\\Python310\\python.exe' requires the ipykernel package.\n",
      "\u001b[1;31mRun the following command to install 'ipykernel' into the Python environment. \n",
      "\u001b[1;31mCommand: 'c:/Users/DELL/AppData/Local/Programs/Python/Python310/python.exe -m pip install ipykernel -U --user --force-reinstall'"
     ]
    }
   ],
   "source": [
    "X_df=pd.DataFrame(X)\n",
    "X_df"
   ]
  },
  {
   "cell_type": "markdown",
   "id": "08c98e83",
   "metadata": {},
   "source": [
    "# Linear Regression"
   ]
  },
  {
   "cell_type": "code",
   "execution_count": null,
   "id": "91b6e5cf",
   "metadata": {},
   "outputs": [
    {
     "ename": "",
     "evalue": "",
     "output_type": "error",
     "traceback": [
      "\u001b[1;31mRunning cells with 'c:\\Users\\DELL\\AppData\\Local\\Programs\\Python\\Python310\\python.exe' requires the ipykernel package.\n",
      "\u001b[1;31mRun the following command to install 'ipykernel' into the Python environment. \n",
      "\u001b[1;31mCommand: 'c:/Users/DELL/AppData/Local/Programs/Python/Python310/python.exe -m pip install ipykernel -U --user --force-reinstall'"
     ]
    }
   ],
   "source": [
    "from sklearn.linear_model import LinearRegression\n",
    "\n",
    "linear_model = LinearRegression()\n",
    "linear_model.fit(X_train, y_train)\n",
    "\n",
    "print('Training Score : ', linear_model.score(X_train, y_train))\n",
    "print('Testing Score  : ', linear_model.score(X_test, y_test))\n",
    "\n",
    "print('R2 Score : ', r2_score(y_test, linear_model.predict(X_test)))\n",
    "print('MSE : ', mean_squared_error(y_test, linear_model.predict(X_test)))"
   ]
  },
  {
   "cell_type": "code",
   "execution_count": null,
   "id": "28a099db",
   "metadata": {},
   "outputs": [
    {
     "ename": "",
     "evalue": "",
     "output_type": "error",
     "traceback": [
      "\u001b[1;31mRunning cells with 'c:\\Users\\DELL\\AppData\\Local\\Programs\\Python\\Python310\\python.exe' requires the ipykernel package.\n",
      "\u001b[1;31mRun the following command to install 'ipykernel' into the Python environment. \n",
      "\u001b[1;31mCommand: 'c:/Users/DELL/AppData/Local/Programs/Python/Python310/python.exe -m pip install ipykernel -U --user --force-reinstall'"
     ]
    }
   ],
   "source": [
    "from sklearn.linear_model import LinearRegression\n",
    "from sklearn.pipeline import make_pipeline\n",
    "\n",
    "linear_model = make_pipeline(MinMaxScaler(), LinearRegression())\n",
    "linear_model.fit(X_train, y_train)\n",
    "\n",
    "print('Training Score : ', linear_model.score(X_train, y_train))\n",
    "print('Testing Score  : ', linear_model.score(X_test, y_test))\n",
    "\n",
    "print('R2 Score : ', r2_score(y_test, linear_model.predict(X_test)))\n",
    "print('MSE : ', mean_squared_error(y_test, linear_model.predict(X_test)))"
   ]
  },
  {
   "cell_type": "markdown",
   "id": "49015ce0",
   "metadata": {},
   "source": [
    "# Decision Tree Regression"
   ]
  },
  {
   "cell_type": "code",
   "execution_count": null,
   "id": "2f7c8b31",
   "metadata": {},
   "outputs": [
    {
     "ename": "",
     "evalue": "",
     "output_type": "error",
     "traceback": [
      "\u001b[1;31mRunning cells with 'c:\\Users\\DELL\\AppData\\Local\\Programs\\Python\\Python310\\python.exe' requires the ipykernel package.\n",
      "\u001b[1;31mRun the following command to install 'ipykernel' into the Python environment. \n",
      "\u001b[1;31mCommand: 'c:/Users/DELL/AppData/Local/Programs/Python/Python310/python.exe -m pip install ipykernel -U --user --force-reinstall'"
     ]
    }
   ],
   "source": [
    "from sklearn.tree import DecisionTreeRegressor\n",
    "scores = []\n",
    "for i in range(100):\n",
    "\n",
    "    dtr_model = DecisionTreeRegressor(max_depth=None, random_state=i)\n",
    "    dtr_model.fit(X_train, y_train)\n",
    "    scores.append(r2_score(y_test, dtr_model.predict(X_test)))\n",
    "\n",
    "plt.figure(figsize = (16, 8))\n",
    "plt.plot(list(range(100)), scores, 'ro-')\n",
    "plt.xlabel('Random Decision Tree Regressor')\n",
    "plt.ylabel('Scores')\n",
    "plt.show()"
   ]
  },
  {
   "cell_type": "markdown",
   "id": "f630c409",
   "metadata": {},
   "source": [
    "**See how the decision tree score changes for different random states**"
   ]
  },
  {
   "cell_type": "code",
   "execution_count": null,
   "id": "e531793f",
   "metadata": {},
   "outputs": [
    {
     "ename": "",
     "evalue": "",
     "output_type": "error",
     "traceback": [
      "\u001b[1;31mRunning cells with 'c:\\Users\\DELL\\AppData\\Local\\Programs\\Python\\Python310\\python.exe' requires the ipykernel package.\n",
      "\u001b[1;31mRun the following command to install 'ipykernel' into the Python environment. \n",
      "\u001b[1;31mCommand: 'c:/Users/DELL/AppData/Local/Programs/Python/Python310/python.exe -m pip install ipykernel -U --user --force-reinstall'"
     ]
    }
   ],
   "source": [
    "X_train, X_test, y_train, y_test = train_test_split(X, y, test_size = 0.20, random_state = 42)\n",
    "\n",
    "dtr_model = DecisionTreeRegressor(max_depth=23, random_state=3)\n",
    "dtr_model.fit(X_train[:, :], y_train)\n",
    "    \n",
    "\n",
    "print('Training Score : ', dtr_model.score(X_train, y_train))\n",
    "print('Testing Score  : ', dtr_model.score(X_test, y_test))\n",
    "\n",
    "print('R2 Score : ', r2_score(y_test, dtr_model.predict(X_test)))\n",
    "print('MSE : ', mean_squared_error(y_test, dtr_model.predict(X_test)))"
   ]
  },
  {
   "cell_type": "code",
   "execution_count": null,
   "id": "10f7c78b",
   "metadata": {},
   "outputs": [
    {
     "ename": "",
     "evalue": "",
     "output_type": "error",
     "traceback": [
      "\u001b[1;31mRunning cells with 'c:\\Users\\DELL\\AppData\\Local\\Programs\\Python\\Python310\\python.exe' requires the ipykernel package.\n",
      "\u001b[1;31mRun the following command to install 'ipykernel' into the Python environment. \n",
      "\u001b[1;31mCommand: 'c:/Users/DELL/AppData/Local/Programs/Python/Python310/python.exe -m pip install ipykernel -U --user --force-reinstall'"
     ]
    }
   ],
   "source": [
    "from sklearn.tree import DecisionTreeRegressor\n",
    "from sklearn.pipeline import make_pipeline\n",
    "adtr_model = make_pipeline(MinMaxScaler(), DecisionTreeRegressor(max_depth = 12, random_state = 92))\n",
    "adtr_model.fit(X_train, y_train)\n",
    "\n",
    "print('Training Score : ', adtr_model.score(X_train, y_train))\n",
    "print('Testing Score  : ', adtr_model.score(X_test, y_test))\n",
    "\n",
    "print('R2 Score : ', r2_score(y_test, adtr_model.predict(X_test)))\n",
    "print('MSE : ', mean_squared_error(y_test, adtr_model.predict(X_test)))"
   ]
  },
  {
   "cell_type": "markdown",
   "id": "25024fea",
   "metadata": {},
   "source": [
    "# Random Forest Regression"
   ]
  },
  {
   "cell_type": "code",
   "execution_count": null,
   "id": "1a33402d",
   "metadata": {},
   "outputs": [
    {
     "ename": "",
     "evalue": "",
     "output_type": "error",
     "traceback": [
      "\u001b[1;31mRunning cells with 'c:\\Users\\DELL\\AppData\\Local\\Programs\\Python\\Python310\\python.exe' requires the ipykernel package.\n",
      "\u001b[1;31mRun the following command to install 'ipykernel' into the Python environment. \n",
      "\u001b[1;31mCommand: 'c:/Users/DELL/AppData/Local/Programs/Python/Python310/python.exe -m pip install ipykernel -U --user --force-reinstall'"
     ]
    }
   ],
   "source": [
    "from sklearn.ensemble import RandomForestRegressor\n",
    "X_train, X_test, y_train, y_test = train_test_split(X, y, test_size = 0.20, random_state = 42)\n",
    "rfr = RandomForestRegressor(max_depth = 7, random_state = 63)\n",
    "rfr.fit(X_train, y_train)\n",
    "\n",
    "\n",
    "print('Training Score : ', rfr.score(X_train, y_train))\n",
    "print('Testing Score  : ', rfr.score(X_test, y_test))\n",
    "\n",
    "print('R2 Score : ', r2_score(y_test, rfr.predict(X_test)))\n",
    "print('MSE : ', mean_squared_error(y_test, rfr.predict(X_test)))"
   ]
  },
  {
   "cell_type": "markdown",
   "id": "294656e3",
   "metadata": {},
   "source": [
    "# Different Models Accuracy"
   ]
  },
  {
   "cell_type": "code",
   "execution_count": null,
   "id": "14453085",
   "metadata": {},
   "outputs": [
    {
     "ename": "",
     "evalue": "",
     "output_type": "error",
     "traceback": [
      "\u001b[1;31mRunning cells with 'c:\\Users\\DELL\\AppData\\Local\\Programs\\Python\\Python310\\python.exe' requires the ipykernel package.\n",
      "\u001b[1;31mRun the following command to install 'ipykernel' into the Python environment. \n",
      "\u001b[1;31mCommand: 'c:/Users/DELL/AppData/Local/Programs/Python/Python310/python.exe -m pip install ipykernel -U --user --force-reinstall'"
     ]
    }
   ],
   "source": [
    "X_train, X_test, y_train, y_test = train_test_split(X[:, :], y, test_size = 0.20, random_state = 42)\n",
    "\n",
    "from sklearn.linear_model import LinearRegression\n",
    "from sklearn.tree import DecisionTreeRegressor\n",
    "from sklearn.ensemble import RandomForestRegressor\n",
    "from sklearn.neighbors import KNeighborsRegressor\n",
    "\n",
    "print('Linear Regression : ')\n",
    "model1 = LinearRegression()\n",
    "model1.fit(X_train, y_train)\n",
    "print('Score : ', model1.score(X_test, y_test))\n",
    "\n",
    "print('Decision Tree Regression : ')\n",
    "model2 = DecisionTreeRegressor(max_depth=23, random_state=3)\n",
    "model2.fit(X_train, y_train)\n",
    "print('Score : ', model2.score(X_test, y_test))\n",
    "\n",
    "print('Random Forest Regression : ')\n",
    "model3 = RandomForestRegressor(max_depth = 7, random_state = 63)\n",
    "model3.fit(X_train, y_train)\n",
    "print('Score : ', model3.score(X_test, y_test))\n",
    "\n",
    "print('k Neighbors Regression : ')\n",
    "model4 = KNeighborsRegressor(n_neighbors = 10)\n",
    "model4.fit(X_train, y_train)\n",
    "print('Score : ', model4.score(X_test, y_test))"
   ]
  },
  {
   "cell_type": "markdown",
   "id": "6caaf7d0",
   "metadata": {},
   "source": [
    "# Building optimal Random Regression Model"
   ]
  },
  {
   "cell_type": "code",
   "execution_count": null,
   "id": "34b335ec",
   "metadata": {},
   "outputs": [
    {
     "ename": "",
     "evalue": "",
     "output_type": "error",
     "traceback": [
      "\u001b[1;31mRunning cells with 'c:\\Users\\DELL\\AppData\\Local\\Programs\\Python\\Python310\\python.exe' requires the ipykernel package.\n",
      "\u001b[1;31mRun the following command to install 'ipykernel' into the Python environment. \n",
      "\u001b[1;31mCommand: 'c:/Users/DELL/AppData/Local/Programs/Python/Python310/python.exe -m pip install ipykernel -U --user --force-reinstall'"
     ]
    }
   ],
   "source": [
    "X_train, X_test, y_train, y_test = train_test_split(X[:, :], y, test_size = 0.20, random_state = 46)\n",
    "\n",
    "print('Random Forest Regression : ')\n",
    "random_forest_regressor = RandomForestRegressor(max_depth = 7, random_state = 63)\n",
    "random_forest_regressor.fit(X_train, y_train)\n",
    "print('Score : ', random_forest_regressor.score(X, y))"
   ]
  },
  {
   "cell_type": "code",
   "execution_count": null,
   "id": "82ea595d",
   "metadata": {},
   "outputs": [
    {
     "ename": "",
     "evalue": "",
     "output_type": "error",
     "traceback": [
      "\u001b[1;31mRunning cells with 'c:\\Users\\DELL\\AppData\\Local\\Programs\\Python\\Python310\\python.exe' requires the ipykernel package.\n",
      "\u001b[1;31mRun the following command to install 'ipykernel' into the Python environment. \n",
      "\u001b[1;31mCommand: 'c:/Users/DELL/AppData/Local/Programs/Python/Python310/python.exe -m pip install ipykernel -U --user --force-reinstall'"
     ]
    }
   ],
   "source": [
    "# Scores for different training samples\n",
    "scores = []\n",
    "for i in range(100):\n",
    "    X_train, X_test, y_train, y_test = train_test_split(X, y, test_size = 0.20, random_state = i)\n",
    "    random_forest_regressor = RandomForestRegressor(max_depth = 7, random_state = 63)\n",
    "    random_forest_regressor.fit(X_train, y_train)\n",
    "    scores.append(random_forest_regressor.score(X, y))\n",
    "    \n",
    "plt.figure(figsize = (16, 8))\n",
    "plt.plot(list(range(100)), scores, 'go-')\n",
    "plt.xlabel('Different Training Samples')\n",
    "plt.ylabel('Scores')\n",
    "plt.show()"
   ]
  },
  {
   "cell_type": "code",
   "execution_count": null,
   "id": "563d25f4",
   "metadata": {},
   "outputs": [
    {
     "ename": "",
     "evalue": "",
     "output_type": "error",
     "traceback": [
      "\u001b[1;31mRunning cells with 'c:\\Users\\DELL\\AppData\\Local\\Programs\\Python\\Python310\\python.exe' requires the ipykernel package.\n",
      "\u001b[1;31mRun the following command to install 'ipykernel' into the Python environment. \n",
      "\u001b[1;31mCommand: 'c:/Users/DELL/AppData/Local/Programs/Python/Python310/python.exe -m pip install ipykernel -U --user --force-reinstall'"
     ]
    }
   ],
   "source": [
    "# Scores for different random forest model\n",
    "X_train, X_test, y_train, y_test = train_test_split(X, y, test_size = 0.20, random_state = 3)\n",
    "\n",
    "scores = []\n",
    "for i in range(100):\n",
    "    random_forest_regressor = RandomForestRegressor(max_depth = 13, random_state = i)\n",
    "    random_forest_regressor.fit(X_train, y_train)\n",
    "    scores.append(random_forest_regressor.score(X, y))\n",
    "    \n",
    "plt.figure(figsize = (16, 8))\n",
    "plt.plot(list(range(100)), scores, 'ro-')\n",
    "plt.xlabel('Different Random Forest Models')\n",
    "plt.ylabel('Scores')\n",
    "plt.show()"
   ]
  },
  {
   "cell_type": "code",
   "execution_count": null,
   "id": "0e2d5cf5",
   "metadata": {},
   "outputs": [
    {
     "ename": "",
     "evalue": "",
     "output_type": "error",
     "traceback": [
      "\u001b[1;31mRunning cells with 'c:\\Users\\DELL\\AppData\\Local\\Programs\\Python\\Python310\\python.exe' requires the ipykernel package.\n",
      "\u001b[1;31mRun the following command to install 'ipykernel' into the Python environment. \n",
      "\u001b[1;31mCommand: 'c:/Users/DELL/AppData/Local/Programs/Python/Python310/python.exe -m pip install ipykernel -U --user --force-reinstall'"
     ]
    }
   ],
   "source": [
    "# Scores for different random forest model\n",
    "X_train, X_test, y_train, y_test = train_test_split(X, y, test_size = 0.20, random_state = 3)\n",
    "\n",
    "scores = []\n",
    "for i in range(1, 30):\n",
    "    random_forest_regressor = RandomForestRegressor(max_depth = i, random_state = 68)\n",
    "    random_forest_regressor.fit(X_train, y_train)\n",
    "    scores.append(random_forest_regressor.score(X, y))\n",
    "    \n",
    "plt.figure(figsize = (16, 8))\n",
    "plt.plot(list(range(1, 30)), scores, 'bo-')\n",
    "plt.xlabel('Different Max_depths')\n",
    "plt.ylabel('Scores')\n",
    "plt.show()"
   ]
  },
  {
   "cell_type": "code",
   "execution_count": null,
   "id": "742f5c17",
   "metadata": {},
   "outputs": [
    {
     "ename": "",
     "evalue": "",
     "output_type": "error",
     "traceback": [
      "\u001b[1;31mRunning cells with 'c:\\Users\\DELL\\AppData\\Local\\Programs\\Python\\Python310\\python.exe' requires the ipykernel package.\n",
      "\u001b[1;31mRun the following command to install 'ipykernel' into the Python environment. \n",
      "\u001b[1;31mCommand: 'c:/Users/DELL/AppData/Local/Programs/Python/Python310/python.exe -m pip install ipykernel -U --user --force-reinstall'"
     ]
    }
   ],
   "source": [
    "plt.figure(figsize = (16, 8))\n",
    "plt.plot(list(range(1, 30)), scores, 'bo-')\n",
    "plt.ylim(0.95, 0.97)\n",
    "plt.show()"
   ]
  },
  {
   "cell_type": "markdown",
   "id": "9abd6cc1",
   "metadata": {},
   "source": [
    "From this, we are going to choose,\n",
    "\n",
    "random_state = 3, for choosing random Training samples  \n",
    "random_state = 68, for random Random forest regressor  \n",
    "max_depth = 13, for Max Depths in random forest regressor  "
   ]
  },
  {
   "cell_type": "markdown",
   "id": "7e0d6696",
   "metadata": {},
   "source": [
    "# Building Optimal Model"
   ]
  },
  {
   "cell_type": "code",
   "execution_count": null,
   "id": "39904508",
   "metadata": {},
   "outputs": [
    {
     "ename": "",
     "evalue": "",
     "output_type": "error",
     "traceback": [
      "\u001b[1;31mRunning cells with 'c:\\Users\\DELL\\AppData\\Local\\Programs\\Python\\Python310\\python.exe' requires the ipykernel package.\n",
      "\u001b[1;31mRun the following command to install 'ipykernel' into the Python environment. \n",
      "\u001b[1;31mCommand: 'c:/Users/DELL/AppData/Local/Programs/Python/Python310/python.exe -m pip install ipykernel -U --user --force-reinstall'"
     ]
    }
   ],
   "source": [
    "# Choosing Optimal Training Samples\n",
    "X_train, X_test, y_train, y_test = train_test_split(X, y, test_size = 0.20, random_state = 3)\n",
    "\n",
    "# Building Optimal Random Forest regressor Model\n",
    "random_forest_regressor = RandomForestRegressor(max_depth = 13, random_state = 68)\n",
    "random_forest_regressor.fit(X_train, y_train)"
   ]
  },
  {
   "cell_type": "code",
   "execution_count": null,
   "id": "03fd00b3",
   "metadata": {},
   "outputs": [
    {
     "ename": "",
     "evalue": "",
     "output_type": "error",
     "traceback": [
      "\u001b[1;31mRunning cells with 'c:\\Users\\DELL\\AppData\\Local\\Programs\\Python\\Python310\\python.exe' requires the ipykernel package.\n",
      "\u001b[1;31mRun the following command to install 'ipykernel' into the Python environment. \n",
      "\u001b[1;31mCommand: 'c:/Users/DELL/AppData/Local/Programs/Python/Python310/python.exe -m pip install ipykernel -U --user --force-reinstall'"
     ]
    }
   ],
   "source": [
    "random_forest_regressor.score(X, y)"
   ]
  },
  {
   "cell_type": "code",
   "execution_count": null,
   "id": "5aae2909",
   "metadata": {},
   "outputs": [
    {
     "ename": "",
     "evalue": "",
     "output_type": "error",
     "traceback": [
      "\u001b[1;31mRunning cells with 'c:\\Users\\DELL\\AppData\\Local\\Programs\\Python\\Python310\\python.exe' requires the ipykernel package.\n",
      "\u001b[1;31mRun the following command to install 'ipykernel' into the Python environment. \n",
      "\u001b[1;31mCommand: 'c:/Users/DELL/AppData/Local/Programs/Python/Python310/python.exe -m pip install ipykernel -U --user --force-reinstall'"
     ]
    }
   ],
   "source": [
    "print('Training Accuracy : ', random_forest_regressor.score(X_train, y_train))\n",
    "print('Testing Accuracy  : ', random_forest_regressor.score(X_test, y_test))"
   ]
  },
  {
   "cell_type": "code",
   "execution_count": null,
   "id": "92ff5fb6",
   "metadata": {},
   "outputs": [
    {
     "ename": "",
     "evalue": "",
     "output_type": "error",
     "traceback": [
      "\u001b[1;31mRunning cells with 'c:\\Users\\DELL\\AppData\\Local\\Programs\\Python\\Python310\\python.exe' requires the ipykernel package.\n",
      "\u001b[1;31mRun the following command to install 'ipykernel' into the Python environment. \n",
      "\u001b[1;31mCommand: 'c:/Users/DELL/AppData/Local/Programs/Python/Python310/python.exe -m pip install ipykernel -U --user --force-reinstall'"
     ]
    }
   ],
   "source": [
    "print('Mean Squared Error : ', mean_squared_error(y_test, random_forest_regressor.predict(X_test)))\n",
    "print('Root Mean Squared Error : ', mean_squared_error(y_test, random_forest_regressor.predict(X_test))**0.5)\n",
    "print('Score : ', r2_score(y, random_forest_regressor.predict(X)))"
   ]
  },
  {
   "cell_type": "markdown",
   "id": "a0b12f77",
   "metadata": {},
   "source": [
    "Finally we finishes the project. We have built a Random Forest Regressor Model which performs well with top 6 features and having the Training accuracy of 97.89% and Testing accuracy of 96.73%."
   ]
  },
  {
   "cell_type": "code",
   "execution_count": null,
   "id": "7be352d5",
   "metadata": {},
   "outputs": [
    {
     "ename": "",
     "evalue": "",
     "output_type": "error",
     "traceback": [
      "\u001b[1;31mRunning cells with 'c:\\Users\\DELL\\AppData\\Local\\Programs\\Python\\Python310\\python.exe' requires the ipykernel package.\n",
      "\u001b[1;31mRun the following command to install 'ipykernel' into the Python environment. \n",
      "\u001b[1;31mCommand: 'c:/Users/DELL/AppData/Local/Programs/Python/Python310/python.exe -m pip install ipykernel -U --user --force-reinstall'"
     ]
    }
   ],
   "source": [
    "# plot between y-test and y_pred\n",
    "y_pred = random_forest_regressor.predict(X_test)\n",
    "plt.rcParams['figure.figsize'] = (15, 8)\n",
    "plt.plot(np.linspace(1, 102, 102), y_test, 'b--')\n",
    "plt.plot(np.linspace(1, 102, 102), y_pred, 'g-')\n",
    "plt.title('A Plot Representing line Plots for the values for y_test and y-pred', fontsize = 30)\n",
    "plt.xlabel('Count')\n",
    "plt.ylabel('Range of these Values')\n",
    "plt.legend()\n",
    "plt.show()"
   ]
  },
  {
   "cell_type": "code",
   "execution_count": null,
   "id": "0b16926f",
   "metadata": {},
   "outputs": [
    {
     "ename": "",
     "evalue": "",
     "output_type": "error",
     "traceback": [
      "\u001b[1;31mRunning cells with 'c:\\Users\\DELL\\AppData\\Local\\Programs\\Python\\Python310\\python.exe' requires the ipykernel package.\n",
      "\u001b[1;31mRun the following command to install 'ipykernel' into the Python environment. \n",
      "\u001b[1;31mCommand: 'c:/Users/DELL/AppData/Local/Programs/Python/Python310/python.exe -m pip install ipykernel -U --user --force-reinstall'"
     ]
    }
   ],
   "source": [
    "import pickle\n",
    "# Save trained model to file\n",
    "pickle.dump(random_forest_regressor, open(\"final_model.pkl\", \"wb\"))\n",
    "loaded_model = pickle.load(open(\"final_model.pkl\", \"rb\"))\n",
    "loaded_model.predict(X_test)\n",
    "loaded_model.score(X_test,y_test)"
   ]
  },
  {
   "cell_type": "code",
   "execution_count": null,
   "id": "323add5a",
   "metadata": {},
   "outputs": [
    {
     "ename": "",
     "evalue": "",
     "output_type": "error",
     "traceback": [
      "\u001b[1;31mRunning cells with 'c:\\Users\\DELL\\AppData\\Local\\Programs\\Python\\Python310\\python.exe' requires the ipykernel package.\n",
      "\u001b[1;31mRun the following command to install 'ipykernel' into the Python environment. \n",
      "\u001b[1;31mCommand: 'c:/Users/DELL/AppData/Local/Programs/Python/Python310/python.exe -m pip install ipykernel -U --user --force-reinstall'"
     ]
    }
   ],
   "source": [
    "CRIM = input()\n",
    "ZN = input()\n",
    "INDUS = input()\n",
    "CHAS = input()\n",
    "NOX = input()\n",
    "RM = input()\n",
    "AGE = input()\n",
    "DIS = input()\n",
    "RAD = input()\n",
    "TAX = input()\n",
    "PTRATIO = input()\n",
    "B = input()\n",
    "LSTAT = input()"
   ]
  },
  {
   "cell_type": "code",
   "execution_count": null,
   "id": "09a10ac2",
   "metadata": {},
   "outputs": [
    {
     "ename": "",
     "evalue": "",
     "output_type": "error",
     "traceback": [
      "\u001b[1;31mRunning cells with 'c:\\Users\\DELL\\AppData\\Local\\Programs\\Python\\Python310\\python.exe' requires the ipykernel package.\n",
      "\u001b[1;31mRun the following command to install 'ipykernel' into the Python environment. \n",
      "\u001b[1;31mCommand: 'c:/Users/DELL/AppData/Local/Programs/Python/Python310/python.exe -m pip install ipykernel -U --user --force-reinstall'"
     ]
    }
   ],
   "source": [
    "data = np.array([[CRIM,ZN, INDUS, CHAS, NOX, RM, AGE, DIS, RAD, TAX,PTRATIO, B, LSTAT]])\n",
    "mean = np.load('mean.npy')\n",
    "std = np.load('std.npy')"
   ]
  },
  {
   "cell_type": "code",
   "execution_count": null,
   "id": "1957fbbf",
   "metadata": {},
   "outputs": [
    {
     "ename": "",
     "evalue": "",
     "output_type": "error",
     "traceback": [
      "\u001b[1;31mRunning cells with 'c:\\Users\\DELL\\AppData\\Local\\Programs\\Python\\Python310\\python.exe' requires the ipykernel package.\n",
      "\u001b[1;31mRun the following command to install 'ipykernel' into the Python environment. \n",
      "\u001b[1;31mCommand: 'c:/Users/DELL/AppData/Local/Programs/Python/Python310/python.exe -m pip install ipykernel -U --user --force-reinstall'"
     ]
    }
   ],
   "source": [
    " my_prediction = loaded_model.predict(data)[0]\n",
    "print(f\"Price of the house is {my_prediction} Million\")"
   ]
  },
  {
   "cell_type": "code",
   "execution_count": null,
   "id": "9324fde7",
   "metadata": {},
   "outputs": [
    {
     "ename": "",
     "evalue": "",
     "output_type": "error",
     "traceback": [
      "\u001b[1;31mRunning cells with 'c:\\Users\\DELL\\AppData\\Local\\Programs\\Python\\Python310\\python.exe' requires the ipykernel package.\n",
      "\u001b[1;31mRun the following command to install 'ipykernel' into the Python environment. \n",
      "\u001b[1;31mCommand: 'c:/Users/DELL/AppData/Local/Programs/Python/Python310/python.exe -m pip install ipykernel -U --user --force-reinstall'"
     ]
    }
   ],
   "source": [
    "# importing the necessary libraries\n",
    "import pandas as pd\n",
    "import numpy as np\n",
    "import pickle\n",
    "from sklearn.preprocessing import StandardScaler\n",
    "from sklearn.model_selection import StratifiedShuffleSplit\n",
    "from sklearn.tree import DecisionTreeRegressor\n",
    "\n",
    "# importing the dataset\n",
    "data = pd.read_csv('boston_housing_prices.csv')\n",
    "data.columns = data.columns.str.strip()  # removing the extra spaces\n",
    "\n",
    "# using the stratified shuffle so that the column 'CHAS' will be equally distributed among the train and test\n",
    "split = StratifiedShuffleSplit()\n",
    "for train_index,test_index in split.split(data,data['CHAS']):\n",
    "    train_set = data.loc[train_index]\n",
    "    test_set = data.loc[test_index]  # saving the data into train and test\n",
    "\n",
    "train = train_set.copy()\n",
    "test = test_set.copy()\n",
    "\n",
    "train_target = train['prices']\n",
    "train.drop('prices',axis = 1,inplace = True)\n",
    "test_target = test['prices']\n",
    "test.drop('prices',axis = 1, inplace = True)\n",
    "\n",
    "# scaling the data\n",
    "scaler = StandardScaler()\n",
    "scaler.fit(train) # using fit so that we can save the mean and variance of the scaled data later\n",
    "train_transformed = scaler.transform(train)\n",
    "\n",
    "# saving the required mean and variance so that we can use it after the deployment to scale the input data\n",
    "std = np.sqrt(scaler.var_)\n",
    "np.save('std.npy',std)\n",
    "np.save('mean.npy',scaler.mean_)\n",
    "\n",
    "regressor = DecisionTreeRegressor()\n",
    "regressor.fit(train_transformed,train_target)\n"
   ]
  },
  {
   "cell_type": "code",
   "execution_count": null,
   "id": "b510caac",
   "metadata": {},
   "outputs": [
    {
     "ename": "",
     "evalue": "",
     "output_type": "error",
     "traceback": [
      "\u001b[1;31mRunning cells with 'c:\\Users\\DELL\\AppData\\Local\\Programs\\Python\\Python310\\python.exe' requires the ipykernel package.\n",
      "\u001b[1;31mRun the following command to install 'ipykernel' into the Python environment. \n",
      "\u001b[1;31mCommand: 'c:/Users/DELL/AppData/Local/Programs/Python/Python310/python.exe -m pip install ipykernel -U --user --force-reinstall'"
     ]
    }
   ],
   "source": [
    "data = np.array([[CRIM,ZN, INDUS, CHAS, NOX, RM, AGE, DIS, RAD, TAX,PTRATIO, B, LSTAT]])\n",
    "my_prediction = random_forest_regressor.predict(data)"
   ]
  },
  {
   "cell_type": "code",
   "execution_count": null,
   "id": "d4cfd29e",
   "metadata": {},
   "outputs": [
    {
     "ename": "",
     "evalue": "",
     "output_type": "error",
     "traceback": [
      "\u001b[1;31mRunning cells with 'c:\\Users\\DELL\\AppData\\Local\\Programs\\Python\\Python310\\python.exe' requires the ipykernel package.\n",
      "\u001b[1;31mRun the following command to install 'ipykernel' into the Python environment. \n",
      "\u001b[1;31mCommand: 'c:/Users/DELL/AppData/Local/Programs/Python/Python310/python.exe -m pip install ipykernel -U --user --force-reinstall'"
     ]
    }
   ],
   "source": [
    "my_prediction"
   ]
  },
  {
   "cell_type": "code",
   "execution_count": null,
   "id": "fda1befe",
   "metadata": {},
   "outputs": [
    {
     "ename": "",
     "evalue": "",
     "output_type": "error",
     "traceback": [
      "\u001b[1;31mRunning cells with 'c:\\Users\\DELL\\AppData\\Local\\Programs\\Python\\Python310\\python.exe' requires the ipykernel package.\n",
      "\u001b[1;31mRun the following command to install 'ipykernel' into the Python environment. \n",
      "\u001b[1;31mCommand: 'c:/Users/DELL/AppData/Local/Programs/Python/Python310/python.exe -m pip install ipykernel -U --user --force-reinstall'"
     ]
    }
   ],
   "source": [
    "int(my_prediction)"
   ]
  },
  {
   "cell_type": "code",
   "execution_count": null,
   "id": "87902170",
   "metadata": {},
   "outputs": [
    {
     "ename": "",
     "evalue": "",
     "output_type": "error",
     "traceback": [
      "\u001b[1;31mRunning cells with 'c:\\Users\\DELL\\AppData\\Local\\Programs\\Python\\Python310\\python.exe' requires the ipykernel package.\n",
      "\u001b[1;31mRun the following command to install 'ipykernel' into the Python environment. \n",
      "\u001b[1;31mCommand: 'c:/Users/DELL/AppData/Local/Programs/Python/Python310/python.exe -m pip install ipykernel -U --user --force-reinstall'"
     ]
    }
   ],
   "source": []
  }
 ],
 "metadata": {
  "kernelspec": {
   "display_name": "Python 3",
   "language": "python",
   "name": "python3"
  },
  "language_info": {
   "codemirror_mode": {
    "name": "ipython",
    "version": 3
   },
   "file_extension": ".py",
   "mimetype": "text/x-python",
   "name": "python",
   "nbconvert_exporter": "python",
   "pygments_lexer": "ipython3",
   "version": "3.10.6"
  }
 },
 "nbformat": 4,
 "nbformat_minor": 5
}
